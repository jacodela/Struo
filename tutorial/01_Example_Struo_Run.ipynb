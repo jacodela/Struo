{
 "cells": [
  {
   "cell_type": "markdown",
   "metadata": {},
   "source": [
    "# Goal\n",
    "\n",
    "The aim of this notebook is to provide an example of how to execute `Struo` to build a custom database. Commands with an **execute from notebook** comment are for reference, only those saying **execute from terminal** are needed to install the software and build the databases"
   ]
  },
  {
   "cell_type": "markdown",
   "metadata": {},
   "source": [
    "# Var "
   ]
  },
  {
   "cell_type": "code",
   "execution_count": 2,
   "metadata": {
    "ExecuteTime": {
     "end_time": "2019-10-28T14:37:05.142121Z",
     "start_time": "2019-10-28T14:37:01.526256Z"
    }
   },
   "outputs": [
    {
     "name": "stderr",
     "output_type": "stream",
     "text": [
      "/ebio/abt3_projects/software/miniconda3_gt4.4/envs/py3/lib/python3.6/importlib/_bootstrap.py:219: RuntimeWarning: numpy.dtype size changed, may indicate binary incompatibility. Expected 96, got 88\n",
      "  return f(*args, **kwds)\n"
     ]
    }
   ],
   "source": [
    "# Execute from notebook\n",
    "import os\n",
    "import pandas as pd"
   ]
  },
  {
   "cell_type": "markdown",
   "metadata": {},
   "source": [
    "# Download `Struo`"
   ]
  },
  {
   "cell_type": "markdown",
   "metadata": {
    "ExecuteTime": {
     "end_time": "2019-10-09T16:10:42.658945Z",
     "start_time": "2019-10-09T16:10:40.640025Z"
    }
   },
   "source": [
    "First, we need to move to the folder where we're going to download the repository and create the databases. \n",
    "\n",
    "```bash\n",
    "# Execute from terminal\n",
    "cd /ebio/abt3_projects/Struo/example_build\n",
    "```\n",
    "\n",
    "**Note**: be sure to change this path to the path in your local system.\n",
    "\n",
    "Next, we'll create folders for other needed files and an output directory\n",
    "\n",
    "```bash\n",
    "# Execute from terminal\n",
    "mkdir Files\n",
    "mkdir Genomes\n",
    "```\n",
    "\n",
    "Next, we'll clone the repo\n",
    "\n",
    "```bash\n",
    "# Execute from terminal\n",
    "git clone git@github.com:leylabmpi/Struo.git \n",
    "```"
   ]
  },
  {
   "cell_type": "markdown",
   "metadata": {},
   "source": [
    "# Set `conda` environment"
   ]
  },
  {
   "cell_type": "markdown",
   "metadata": {},
   "source": [
    "`Struo` needs a working conda installation. The required packages and their exact versions are listed in the README and in the `struo_env.yaml` file. This file can be used to create a new conda environment called `struo` with the needed software and dependencies. Make sure that you have a working conda installation and execute: \n",
    "\n",
    "```bash\n",
    "# Execute from terminal\n",
    "conda env create --file=./Struo/tutorial/struo_env.yaml\n",
    "```\n",
    "\n",
    "Additionally, you will need a working installation of `HUMANn2` to download required files, although it doesn't have to be part of this `conda` environment. Note that `Struo` will install all other software for you, so there is no need to include it in the `conda` envinronment"
   ]
  },
  {
   "cell_type": "markdown",
   "metadata": {},
   "source": [
    "# Download UniRef databases for `HUMANn2`"
   ]
  },
  {
   "cell_type": "markdown",
   "metadata": {},
   "source": [
    "We will need a UniRef diamond database for the `HUMANn2` database construction (e.g., UniRef50). See the \"Download a translated search database\" section of the [HUMAN2 docs](https://bitbucket.org/biobakery/humann2/wiki/Home#markdown-header-5-download-the-databases).\n",
    "\n",
    "To download the UniRef50 database using `HUMAN2`, use the following command:\n",
    "```bash\n",
    "# Execute from terminal\n",
    "humann2_databases --download uniref uniref50_diamond ./Files\n",
    "```"
   ]
  },
  {
   "cell_type": "markdown",
   "metadata": {},
   "source": [
    "# Build additional `conda` environments"
   ]
  },
  {
   "cell_type": "markdown",
   "metadata": {},
   "source": [
    "Next, we build a `conda` environment for each of the metagenome profilers. `Struo` takes care of this for you, just run:"
   ]
  },
  {
   "cell_type": "markdown",
   "metadata": {
    "ExecuteTime": {
     "end_time": "2019-10-09T16:14:56.016594Z",
     "start_time": "2019-10-09T16:14:55.896490Z"
    }
   },
   "source": [
    "```bash\n",
    "# Execute from terminal\n",
    "## Move to the pipeline repo\n",
    "cd Struo\n",
    "\n",
    "## Create envs\n",
    "conda activate struo && snakemake --use-conda --create-envs-only\n",
    "```"
   ]
  },
  {
   "cell_type": "markdown",
   "metadata": {},
   "source": [
    "We can see the dependencies of each `conda`. Be sure to change the `pipeline_folder` variable to the path in your local system."
   ]
  },
  {
   "cell_type": "code",
   "execution_count": 8,
   "metadata": {
    "ExecuteTime": {
     "end_time": "2019-10-29T07:50:55.610937Z",
     "start_time": "2019-10-29T07:50:55.486575Z"
    }
   },
   "outputs": [
    {
     "name": "stdout",
     "output_type": "stream",
     "text": [
      "find /ebio/abt3_projects/Struo/example_build/Struo/bin/envs -name '*.yaml' | xargs head -n 1000\n",
      "==> /ebio/abt3_projects/Struo/example_build/Struo/bin/envs/humann2.yaml <==\r\n",
      "channels: !!python/tuple\r\n",
      "- bioconda\r\n",
      "dependencies:\r\n",
      "- pigz\r\n",
      "- bioconda::vsearch\r\n",
      "- bioconda::prodigal\r\n",
      "- bioconda::diamond=0.8.36\r\n",
      "\r\n",
      "==> /ebio/abt3_projects/Struo/example_build/Struo/bin/envs/kraken2.yaml <==\r\n",
      "channels: !!python/tuple\r\n",
      "- bioconda\r\n",
      "dependencies:\r\n",
      "- libiconv\r\n",
      "- bioconda::kraken2\r\n",
      "- bioconda::bracken\r\n",
      "\r\n"
     ]
    }
   ],
   "source": [
    "# Execute from notebook\n",
    "pipeline_folder = \"/ebio/abt3_projects/Struo/example_build/Struo\"\n",
    "sessionInfo = \"find {0} -name '*.yaml' | xargs head -n 1000\".format(os.path.join(pipeline_folder, 'bin', 'envs'))\n",
    "# Command\n",
    "print(sessionInfo)\n",
    "!$sessionInfo"
   ]
  },
  {
   "cell_type": "markdown",
   "metadata": {},
   "source": [
    "# Download genomes"
   ]
  },
  {
   "cell_type": "markdown",
   "metadata": {},
   "source": [
    "The software and files are almost ready. We can now prepare the tables with the information of the genomes that we wish to include. For this tutorial, we'll be using a very small subset of the GTDB genomes. The `GTDB_metadata_filter.R` script downloads the metadata tables provided by the GTDB and filters them based on the completeness and contamination thresholds we set as default; if you wish to set different cut-off values, modify this script. For release 86 of the GTDB, these files can be found [here](https://data.ace.uq.edu.au/public/gtdb/data/releases/release86/86.0/).\n",
    "\n",
    "To download the *Archaea* genomes from GTDB using the default filtering parameters, we use\n",
    "\n",
    "```bash\n",
    "# Execute from terminal\n",
    "conda activate struo\n",
    "\n",
    "Rscript util_scripts/GTDB_metadata_filter.R https://data.ace.uq.edu.au/public/gtdb/data/releases/release86/86.0/arc_metadata_r86.tsv --output ../Files/Archaea_genomes.txt\n",
    "```"
   ]
  },
  {
   "cell_type": "markdown",
   "metadata": {},
   "source": [
    "The resulting file will be used for the rest of the pipeline. The fields are described in the `README.md` file. If you want to include other genomes you downloaded, you can add a column called  `fasta_file_path` with the location of these genomes"
   ]
  },
  {
   "cell_type": "code",
   "execution_count": 9,
   "metadata": {
    "ExecuteTime": {
     "end_time": "2019-10-29T07:51:31.372797Z",
     "start_time": "2019-10-29T07:51:31.326621Z"
    }
   },
   "outputs": [
    {
     "data": {
      "text/html": [
       "<div>\n",
       "<style scoped>\n",
       "    .dataframe tbody tr th:only-of-type {\n",
       "        vertical-align: middle;\n",
       "    }\n",
       "\n",
       "    .dataframe tbody tr th {\n",
       "        vertical-align: top;\n",
       "    }\n",
       "\n",
       "    .dataframe thead th {\n",
       "        text-align: right;\n",
       "    }\n",
       "</style>\n",
       "<table border=\"1\" class=\"dataframe\">\n",
       "  <thead>\n",
       "    <tr style=\"text-align: right;\">\n",
       "      <th></th>\n",
       "      <th>ncbi_organism_name</th>\n",
       "      <th>ncbi_genbank_assembly_accession</th>\n",
       "      <th>scaffold_count</th>\n",
       "      <th>contig_count</th>\n",
       "      <th>gc_percentage</th>\n",
       "      <th>genome_size</th>\n",
       "      <th>checkm_completeness</th>\n",
       "      <th>checkm_contamination</th>\n",
       "      <th>checkm_strain_heterogeneity</th>\n",
       "      <th>ncbi_assembly_level</th>\n",
       "      <th>ncbi_refseq_category</th>\n",
       "      <th>ncbi_species_taxid</th>\n",
       "      <th>ncbi_taxonomy</th>\n",
       "      <th>gtdb_taxonomy</th>\n",
       "      <th>mimag_high_quality</th>\n",
       "      <th>gtdb_representative</th>\n",
       "    </tr>\n",
       "  </thead>\n",
       "  <tbody>\n",
       "    <tr>\n",
       "      <th>0</th>\n",
       "      <td>Thermococcus litoralis DSM 5473</td>\n",
       "      <td>GCA_000246985.3</td>\n",
       "      <td>1</td>\n",
       "      <td>1</td>\n",
       "      <td>43.088029</td>\n",
       "      <td>2215172</td>\n",
       "      <td>99.50</td>\n",
       "      <td>0.50</td>\n",
       "      <td>0.0</td>\n",
       "      <td>Complete Genome</td>\n",
       "      <td>representative genome</td>\n",
       "      <td>2265</td>\n",
       "      <td>d__Archaea;p__Euryarchaeota;c__Thermococci;o__...</td>\n",
       "      <td>d__Archaea;p__Euryarchaeota;c__Thermococci;o__...</td>\n",
       "      <td>t</td>\n",
       "      <td>t</td>\n",
       "    </tr>\n",
       "    <tr>\n",
       "      <th>1</th>\n",
       "      <td>Methanolobus tindarius DSM 2278</td>\n",
       "      <td>GCA_000504205.1</td>\n",
       "      <td>1</td>\n",
       "      <td>1</td>\n",
       "      <td>39.789852</td>\n",
       "      <td>3151883</td>\n",
       "      <td>99.67</td>\n",
       "      <td>0.00</td>\n",
       "      <td>0.0</td>\n",
       "      <td>Contig</td>\n",
       "      <td>representative genome</td>\n",
       "      <td>2221</td>\n",
       "      <td>d__Archaea;p__Euryarchaeota;c__Methanomicrobia...</td>\n",
       "      <td>d__Archaea;p__Halobacterota;c__Methanosarcinia...</td>\n",
       "      <td>t</td>\n",
       "      <td>t</td>\n",
       "    </tr>\n",
       "    <tr>\n",
       "      <th>2</th>\n",
       "      <td>Candidatus Nitrosopelagicus brevis</td>\n",
       "      <td>GCA_000812185.1</td>\n",
       "      <td>1</td>\n",
       "      <td>1</td>\n",
       "      <td>33.157756</td>\n",
       "      <td>1232128</td>\n",
       "      <td>99.51</td>\n",
       "      <td>0.00</td>\n",
       "      <td>0.0</td>\n",
       "      <td>Complete Genome</td>\n",
       "      <td>na</td>\n",
       "      <td>1410606</td>\n",
       "      <td>d__Archaea;p__Thaumarchaeota;c__;o__;f__;g__Ca...</td>\n",
       "      <td>d__Archaea;p__Crenarchaeota;c__Nitrososphaeria...</td>\n",
       "      <td>t</td>\n",
       "      <td>t</td>\n",
       "    </tr>\n",
       "    <tr>\n",
       "      <th>3</th>\n",
       "      <td>Methanococcus voltae A3</td>\n",
       "      <td>GCA_000006175.2</td>\n",
       "      <td>1</td>\n",
       "      <td>1</td>\n",
       "      <td>28.594594</td>\n",
       "      <td>1936387</td>\n",
       "      <td>99.05</td>\n",
       "      <td>0.00</td>\n",
       "      <td>0.0</td>\n",
       "      <td>Complete Genome</td>\n",
       "      <td>representative genome</td>\n",
       "      <td>2188</td>\n",
       "      <td>d__Archaea;p__Euryarchaeota;c__Methanococci;o_...</td>\n",
       "      <td>d__Archaea;p__Euryarchaeota;c__Methanococci;o_...</td>\n",
       "      <td>t</td>\n",
       "      <td>t</td>\n",
       "    </tr>\n",
       "    <tr>\n",
       "      <th>4</th>\n",
       "      <td>Halorubrum hochstenium ATCC 700873</td>\n",
       "      <td>GCA_000337075.1</td>\n",
       "      <td>64</td>\n",
       "      <td>64</td>\n",
       "      <td>69.130537</td>\n",
       "      <td>3037532</td>\n",
       "      <td>99.38</td>\n",
       "      <td>0.19</td>\n",
       "      <td>0.0</td>\n",
       "      <td>Contig</td>\n",
       "      <td>na</td>\n",
       "      <td>1227480</td>\n",
       "      <td>d__Archaea;p__Euryarchaeota;c__Halobacteria;o_...</td>\n",
       "      <td>d__Archaea;p__Halobacterota;c__Halobacteria;o_...</td>\n",
       "      <td>f</td>\n",
       "      <td>t</td>\n",
       "    </tr>\n",
       "  </tbody>\n",
       "</table>\n",
       "</div>"
      ],
      "text/plain": [
       "                   ncbi_organism_name ncbi_genbank_assembly_accession  \\\n",
       "0     Thermococcus litoralis DSM 5473                 GCA_000246985.3   \n",
       "1     Methanolobus tindarius DSM 2278                 GCA_000504205.1   \n",
       "2  Candidatus Nitrosopelagicus brevis                 GCA_000812185.1   \n",
       "3             Methanococcus voltae A3                 GCA_000006175.2   \n",
       "4  Halorubrum hochstenium ATCC 700873                 GCA_000337075.1   \n",
       "\n",
       "   scaffold_count  contig_count  gc_percentage  genome_size  \\\n",
       "0               1             1      43.088029      2215172   \n",
       "1               1             1      39.789852      3151883   \n",
       "2               1             1      33.157756      1232128   \n",
       "3               1             1      28.594594      1936387   \n",
       "4              64            64      69.130537      3037532   \n",
       "\n",
       "   checkm_completeness  checkm_contamination  checkm_strain_heterogeneity  \\\n",
       "0                99.50                  0.50                          0.0   \n",
       "1                99.67                  0.00                          0.0   \n",
       "2                99.51                  0.00                          0.0   \n",
       "3                99.05                  0.00                          0.0   \n",
       "4                99.38                  0.19                          0.0   \n",
       "\n",
       "  ncbi_assembly_level   ncbi_refseq_category ncbi_species_taxid  \\\n",
       "0     Complete Genome  representative genome               2265   \n",
       "1              Contig  representative genome               2221   \n",
       "2     Complete Genome                     na            1410606   \n",
       "3     Complete Genome  representative genome               2188   \n",
       "4              Contig                     na            1227480   \n",
       "\n",
       "                                       ncbi_taxonomy  \\\n",
       "0  d__Archaea;p__Euryarchaeota;c__Thermococci;o__...   \n",
       "1  d__Archaea;p__Euryarchaeota;c__Methanomicrobia...   \n",
       "2  d__Archaea;p__Thaumarchaeota;c__;o__;f__;g__Ca...   \n",
       "3  d__Archaea;p__Euryarchaeota;c__Methanococci;o_...   \n",
       "4  d__Archaea;p__Euryarchaeota;c__Halobacteria;o_...   \n",
       "\n",
       "                                       gtdb_taxonomy mimag_high_quality  \\\n",
       "0  d__Archaea;p__Euryarchaeota;c__Thermococci;o__...                  t   \n",
       "1  d__Archaea;p__Halobacterota;c__Methanosarcinia...                  t   \n",
       "2  d__Archaea;p__Crenarchaeota;c__Nitrososphaeria...                  t   \n",
       "3  d__Archaea;p__Euryarchaeota;c__Methanococci;o_...                  t   \n",
       "4  d__Archaea;p__Halobacterota;c__Halobacteria;o_...                  f   \n",
       "\n",
       "  gtdb_representative  \n",
       "0                   t  \n",
       "1                   t  \n",
       "2                   t  \n",
       "3                   t  \n",
       "4                   t  "
      ]
     },
     "execution_count": 9,
     "metadata": {},
     "output_type": "execute_result"
    }
   ],
   "source": [
    "# Execute from notebook\n",
    "pd.read_csv('/ebio/abt3_projects/Struo/example_build/Files/Archaea_genomes.txt', sep='\\t', header=0).head()"
   ]
  },
  {
   "cell_type": "markdown",
   "metadata": {},
   "source": [
    "For the sake of speed, let's create a database with just the first 10 genomes in the `Archaea_genomes.txt` file"
   ]
  },
  {
   "cell_type": "markdown",
   "metadata": {
    "ExecuteTime": {
     "end_time": "2019-10-09T17:14:53.487636Z",
     "start_time": "2019-10-09T17:14:53.365156Z"
    }
   },
   "source": [
    "```bash\n",
    "# Execute from terminal\n",
    "head ../Files/Archaea_genomes.txt > ../Files/test_genomes.txt\n",
    "```"
   ]
  },
  {
   "cell_type": "markdown",
   "metadata": {
    "ExecuteTime": {
     "end_time": "2019-10-09T17:26:53.118667Z",
     "start_time": "2019-10-09T17:26:53.112014Z"
    }
   },
   "source": [
    "We can now download these genomes. Note that the `genome_download.R` script adds the path to the fasta file of each of the downloaded genomes and prints it to the standard out"
   ]
  },
  {
   "cell_type": "markdown",
   "metadata": {},
   "source": [
    "```bash \n",
    "# Execute from terminal\n",
    "Rscript util_scripts/genome_download.R --output ../Genomes ../Files/test_genomes.txt > ../Files/Samples_file.txt\n",
    "```"
   ]
  },
  {
   "cell_type": "markdown",
   "metadata": {},
   "source": [
    "# Edit the configuration file\n",
    "\n",
    "We need to modify the `config.yaml` file to specify the parameters of the pipeline, including the input, output and temporary directories. *Remember* to modify the paths to the input, output diamond databases and temporary directories. In addition, for this test, the file has other parameters modified: the `diamond_db_to_mem` parameter is set to **False**\n",
    "\n",
    "\n",
    "\n",
    "It should look something like this:"
   ]
  },
  {
   "cell_type": "code",
   "execution_count": 11,
   "metadata": {
    "ExecuteTime": {
     "end_time": "2019-10-29T07:56:21.416595Z",
     "start_time": "2019-10-29T07:56:21.297456Z"
    }
   },
   "outputs": [
    {
     "name": "stdout",
     "output_type": "stream",
     "text": [
      "#-- I/O --#\r\n",
      "# file listing samples and associated data\r\n",
      "samples_file: /ebio/abt3_projects/Struo/example_build/Files/Samples_file.txt\r\n",
      "\r\n",
      "## column names in samples table\r\n",
      "samples_col: 'ncbi_organism_name'\r\n",
      "fasta_file_path_col: 'fasta_file_path'\r\n",
      "taxID_col: 'ncbi_species_taxid'\r\n",
      "taxonomy_col: 'ncbi_taxonomy'\r\n",
      "\r\n",
      "# output location\r\n",
      "output_dir: /ebio/abt3_projects/Struo/example_build/Databases\r\n",
      "\r\n",
      "#-- databases to create --#\r\n",
      "# Replace \"Create\" with \"Skip\" to skip creation of any of these\r\n",
      "# Note that braken relies on the kraken2 database\r\n",
      "databases:\r\n",
      "  kraken2: Create\r\n",
      "  bracken: Create\r\n",
      "  humann2_bowtie2: Create\r\n",
      "  humann2_diamond: Create\r\n",
      "\r\n",
      "#-- keep intermediate files required for re-creating DBs (eg., w/ more genomes) --#\r\n",
      "# If \"True\", the intermediate files are saved to `output_dir`\r\n",
      "# Else, the intermediate files are temporarily stored in `temp_folder`\r\n",
      "keep_intermediate: True\r\n",
      "\r\n",
      "#-- software parameters --#\r\n",
      "# `vsearch_per_genome` = per-genome gene clustering\r\n",
      "# `vsearch_all` = all genes clustered (including `humann2_nuc_seqs` & `humann2_prot_seqs`)\r\n",
      "params:\r\n",
      "  bracken_build_kmer: 35\r\n",
      "  bracken_build_read_lens:\r\n",
      "    - 100\r\n",
      "    - 150\r\n",
      "  prodigal: \"\"\r\n",
      "  diamond_db: /ebio/abt3_projects/Struo/example_build/Files/uniref/uniref50_annotated.1.1.dmnd\r\n",
      "  diamond_db_to_mem: False\r\n",
      "  diamond: --evalue 1e-3 --sensitive --max-target-seqs 20 --block-size 3 --index-chunks 2\r\n",
      "  vsearch_per_genome: --id 0.97 --strand both --qmask none --fasta_width 0\r\n",
      "  vsearch_all: --id 1.0 --strand both --qmask none --fasta_width 0\r\n",
      "\r\n",
      "#-- If adding genes to humann2 database --#\r\n",
      "# If you have nucleotid and/or protein gene sequences formatted for humann2,\r\n",
      "# provide the file paths to the fasta files below (gzip'ed)\r\n",
      "humann2_nuc_seqs: Skip\r\n",
      "humann2_prot_seqs: Skip\r\n",
      "\r\n",
      "#-- snakemake pipeline --#\r\n",
      "pipeline:\r\n",
      "  snakemake_folder: ./\r\n",
      "  script_folder: ./bin/scripts/\r\n",
      "  temp_folder: /tmp/global2/     # your username will be added automatically to this path\r\n"
     ]
    }
   ],
   "source": [
    "# Execute from notebook\n",
    "!cat /ebio/abt3_projects/Struo/example_build/Struo/config.yaml"
   ]
  },
  {
   "cell_type": "markdown",
   "metadata": {},
   "source": [
    "# Execute the pipeline"
   ]
  },
  {
   "cell_type": "markdown",
   "metadata": {},
   "source": [
    "Now that the software is installed, the genomes are downloaded and the pipeline is configured, we can build the databases! This process may take a while, so it is a good idea to run it screened. \n",
    "\n",
    "**Note** that the number of cores provided will depend on the machine you are using, so change accordingly"
   ]
  },
  {
   "cell_type": "markdown",
   "metadata": {},
   "source": [
    "```bash\n",
    "# Execute from terminal\n",
    "conda activate struo \n",
    "\n",
    "screen -L -S struo_test bash -c \"snakemake --use-conda --cores 10\"\n",
    "```"
   ]
  },
  {
   "cell_type": "markdown",
   "metadata": {},
   "source": [
    "# Check the files"
   ]
  },
  {
   "cell_type": "markdown",
   "metadata": {},
   "source": [
    "The files should be ready. We can see they are in the output directory"
   ]
  },
  {
   "cell_type": "code",
   "execution_count": 12,
   "metadata": {
    "ExecuteTime": {
     "end_time": "2019-10-30T13:19:34.195818Z",
     "start_time": "2019-10-30T13:19:34.070669Z"
    }
   },
   "outputs": [
    {
     "name": "stdout",
     "output_type": "stream",
     "text": [
      "total 58M\r\n",
      "drwxrwxr-x  5 jdelacuesta ebio 4.0K Oct 29 19:21 .\r\n",
      "drwxrwxr-x  6 jdelacuesta ebio   86 Oct 29 16:55 ..\r\n",
      "-rw-rw-r--  1 jdelacuesta ebio  13M Oct 29 19:21 all_genes_annot.1.bt2\r\n",
      "-rw-rw-r--  1 jdelacuesta ebio 4.9M Oct 29 19:21 all_genes_annot.2.bt2\r\n",
      "-rw-rw-r--  1 jdelacuesta ebio 204K Oct 29 19:21 all_genes_annot.3.bt2\r\n",
      "-rw-rw-r--  1 jdelacuesta ebio 4.9M Oct 29 19:21 all_genes_annot.4.bt2\r\n",
      "-rw-rw-r--  1 jdelacuesta ebio 8.5M Oct 29 19:21 all_genes_annot.dmnd\r\n",
      "-rw-rw-r--  1 jdelacuesta ebio 4.0M Oct 29 19:21 all_genes_annot.faa.gz\r\n",
      "-rw-rw-r--  1 jdelacuesta ebio 5.8M Oct 29 19:21 all_genes_annot.fna.gz\r\n",
      "-rw-rw-r--  1 jdelacuesta ebio  13M Oct 29 19:21 all_genes_annot.rev.1.bt2\r\n",
      "-rw-rw-r--  1 jdelacuesta ebio 4.9M Oct 29 19:21 all_genes_annot.rev.2.bt2\r\n",
      "-rw-rw-r--  1 jdelacuesta ebio    0 Oct 29 19:21 bowtie2_build.done\r\n",
      "drwxrwxr-x  2 jdelacuesta ebio 4.0K Oct 29 19:21 nuc_filtered\r\n",
      "drwxrwxr-x 11 jdelacuesta ebio 4.0K Oct 29 19:15 prodigal\r\n",
      "drwxrwxr-x  2 jdelacuesta ebio 4.0K Oct 29 19:21 prot_filtered\r\n"
     ]
    }
   ],
   "source": [
    "#Execute from notebook\n",
    "!ls -lha /ebio/abt3_projects/Struo/example_build/Databases/humann2/"
   ]
  },
  {
   "cell_type": "code",
   "execution_count": 13,
   "metadata": {
    "ExecuteTime": {
     "end_time": "2019-10-30T13:19:36.280035Z",
     "start_time": "2019-10-30T13:19:36.158446Z"
    }
   },
   "outputs": [
    {
     "name": "stdout",
     "output_type": "stream",
     "text": [
      "total 43M\r\n",
      "drwxrwxr-x 5 jdelacuesta ebio  328 Oct 29 19:22 .\r\n",
      "drwxrwxr-x 6 jdelacuesta ebio   86 Oct 29 16:55 ..\r\n",
      "drwxrwxr-x 2 jdelacuesta ebio 4.0K Oct 29 16:43 added\r\n",
      "-rw-rw-r-- 1 jdelacuesta ebio  664 Oct 29 19:22 database100mers.kmer_distrib\r\n",
      "-rw-rw-r-- 1 jdelacuesta ebio  19K Oct 29 19:22 database100mers.kraken\r\n",
      "-rw-rw-r-- 1 jdelacuesta ebio  654 Oct 29 19:22 database150mers.kmer_distrib\r\n",
      "-rw-rw-r-- 1 jdelacuesta ebio  18K Oct 29 19:22 database150mers.kraken\r\n",
      "-rw-rw-r-- 1 jdelacuesta ebio 563K Oct 29 19:22 database.kraken\r\n",
      "-rw-rw-r-- 1 jdelacuesta ebio  43M Oct 29 19:21 hash.k2d\r\n",
      "drwxrwxr-x 3 jdelacuesta ebio   27 Oct 29 16:43 library\r\n",
      "-rw-rw-r-- 1 jdelacuesta ebio   56 Oct 29 19:21 opts.k2d\r\n",
      "-rw-rw-r-- 1 jdelacuesta ebio  11K Oct 29 19:21 seqid2taxid.map\r\n",
      "-rw-rw-r-- 1 jdelacuesta ebio 3.6K Oct 29 19:21 taxo.k2d\r\n",
      "drwxrwxr-x 2 jdelacuesta ebio 4.0K Oct 29 19:21 taxonomy\r\n"
     ]
    }
   ],
   "source": [
    "#Execute from notebook\n",
    "!ls -lha /ebio/abt3_projects/Struo/example_build/Databases/kraken2/"
   ]
  },
  {
   "cell_type": "markdown",
   "metadata": {},
   "source": [
    "# Optional: add genomes to an existing database\n",
    "\n",
    "One of the features of the pipeline is that you can expand an already existing database with more genomes. This avoids having to rerun the complete pipeline from scratch. \n",
    "\n",
    "**Important**: to do this, you must retain files from the processing of previous genomes so that their are not reprocessed and only the newly added are. This is done by using the `keep_intermediate: True` parameter in the `config.yaml` file, which is the default setting."
   ]
  },
  {
   "cell_type": "markdown",
   "metadata": {},
   "source": [
    "We'll need to add the new genomes to the old `test_genomes.txt` file to retrieve the genome sequences from NCBI. Remember that in the first section we used the first ten genomes from the *Archaea* collection of the GTDB, let's use the first 15 (the original 10 plus 5 new genomes)\n",
    "\n",
    "```bash\n",
    "# Execute from terminal\n",
    "head -n 15 ../Files/Archaea_genomes.txt > ../Files/test_add.txt\n",
    "```\n",
    "\n",
    "Next, we execute the `genome_download.R` script as above.\n",
    "\n",
    "```bash\n",
    "# Execute from terminal\n",
    "conda activate struo\n",
    "\n",
    "Rscript util_scripts/genome_download.R --output ../Genomes ../Files/test_add.txt > ../Files/Samples_add.txt\n",
    "```\n",
    "\n",
    "We now have the genome sequences and an updated samples file."
   ]
  },
  {
   "cell_type": "markdown",
   "metadata": {},
   "source": [
    "Before we can execute the pipeline again, we have to make sure that the following output files from the original execution are removed from the output directory\n",
    "\n",
    "* humann2 database\n",
    "  * all_genes_annot.dmnd\n",
    "* kraken database\n",
    "  * hash.k2d\n",
    "  * taxo.k2d\n",
    "* bracken database\n",
    "  * database100mers.kraken\n",
    "  * database150mers.kraken\n",
    "  \n",
    "```bash\n",
    "# Execute from terminal\n",
    "rm ../Databases/kraken2/database100mers.kraken ../Databases/kraken2/database150mers.kraken ../Databases/kraken2/hash.k2d ../Databases/kraken2/taxo.k2d ../Databases/humann2/all_genes_annot.dmnd\n",
    "```\n",
    "\n",
    "**Note** that if you want to keep these files, you can just rename them"
   ]
  },
  {
   "cell_type": "markdown",
   "metadata": {},
   "source": [
    "Next we can prepare the `config.yaml` file. We just need to specify the name of the new samples file.\n",
    "\n",
    "Finally, we execute the pipeline just like we did the first time:\n",
    "\n",
    "```bash\n",
    "# Execute from terminal\n",
    "conda activate struo \n",
    "\n",
    "screen -L -S struo_test bash -c \"snakemake --use-conda --cores 10\"\n",
    "```"
   ]
  },
  {
   "cell_type": "markdown",
   "metadata": {},
   "source": [
    "# Optional: re-running the pipeline with HUMANn2-formatted genes. \n",
    "\n",
    "It is possible to obtain genes not from genome assemblies, but from protein assemblies (e.g., genes assembled from metagenomes using PLASS https://github.com/soedinglab/plass). Gene sequences obtained this way can also be added to HUMANn2 databases using Struo.\n",
    "\n",
    "The genes should be in nucleotide or amino acid fasta format, and the files should be gzipped. We will use two example files that are located in the `data/tests` folder within the Struo folder. "
   ]
  },
  {
   "cell_type": "code",
   "execution_count": 22,
   "metadata": {
    "ExecuteTime": {
     "end_time": "2019-10-30T14:49:02.276471Z",
     "start_time": "2019-10-30T14:49:02.038787Z"
    }
   },
   "outputs": [
    {
     "name": "stdout",
     "output_type": "stream",
     "text": [
      ">UniRef50_U6EEN0|117|g__Candidatus_Methanoperedenaceae.s__Candidatus_Methanoperedens_sp_BLZ1__taxID1719120\n",
      "PLTTVIRPNLMTKPATLIIPKVTVGDLDDAAKVFGPAQTAVGRAVADAVEEGYIPKDIVEDIVINVSVFIDPSAKNYRKIYQYNYGATKLAIRRAMEGYPSIDKVLAEKDRGTHPIM\n",
      ">UniRef50_W1I8X6|316|g__Clostridiaceae.s__uncultured_Clostridium_sp___taxID59620\n",
      "YRLSTLNCGGEDFAVACMRSNLRYEKNQRREDVKSHHYIISFDPRDAVDNGLTVDRAQALGEEFCRKQFPGHQAIVCTHPDGHNHSGNIHVHIVINSLRIEEVPFLPYMDRPADTKAGCKHRCTDAALRYFKSEVMEMCHREGLYQIDLLNGSKNRVTDREYWAQKKGQAALDKQNAPMIAGGITPRQTKFETNKEKLRQTIRAALSAATSFEDFSSLLLREGVAVKESRGRLSYLTPDRTKPITARKLGDDFDRAAVLALLEQNAHRAAEQTATVPEYPRNIRERLQGKKAVQTTPEKDGIQRMVDRAAKRAEGK\n",
      ">UniRef50_I3YK69|116|g__Rikenellaceae.s__unclassified__taxID679935\n",
      "MEPANFPEIYTGNEDESDRMQDIAGCFDPIIPRNDGFQYDIEAAASDVCHGKDKWKLPILPVAPGKIIPGRSAVPPSPAPGRKNHPRRGCGIFPPLHLRRGLLTLPEATDPFGI\n",
      ">UniRef50_R7FWB0|72|g__Peptococcaceae.s__Desulfosporosinus_sp_OL__taxID1888891\n",
      "FSIPVHQFIFNGGNVDKKFFMDNLQLEESEYALIRDPQRGSCLYKCGNERYLLQVQAPEYKQALFGTAGGR\n",
      ">UniRef50_K1TC45|153|g__Rikenellaceae.s__unclassified__taxID742725\n",
      "LDLVPVDLRFISHDNFISARRNQVTATAADKAIMADKEPGFRVFNLTVSPFQDATTSYFHRSVGGYHGAKLARYQDLIDRYLSYRNDAVLDMLNTRYLIVPGDGGQPEAVLRPTANGAAWFVDTIAVAGSPQQEIDLLGETDLKRAAVIAEKD\n",
      "\n",
      "gzip: stdout: Broken pipe\n",
      ">UniRef50_X1GU89|71|g__Salinivirgaceae.s__Salinivirga_cyanobacteriivorans__taxID1307839\n",
      "CACGACCTAGACGAATACGACTACAACTTCTACGAAGGAATAGACAGAAGACAAATGAAAGAACTAAGAGAACTAGTATGGCTAAGAGAAGCATACAACCTAATACTAATGGGACCAAGCGGAACAGGAAAAACATTCCTAGCAGCAGGACTAGTATTCGACGCAGTAAAAGCAGGATACAAAGCATACCTAATGACAATGGAAGACATAGTA\n",
      ">UniRef50_T4M5W3|58|g__unclassified.s__unclassified__taxID1263006\n",
      "TGGGTAGTAAGCGGACAATGGCTACAAAAACTACTAAACGACATAAACTTCGACGACTACGAAAGCAGAATGTACTTCGACAGACAACTAAGAAAAAGCGGACTATTCGACAGACTAGAAGAACAAGGAATAGAAGACGGAGACACAGTAAGCATATACGACTTCGAATTCGAC\n",
      ">UniRef50_G5IJW1|139|g__Bdellovibrionaceae.s__Bdellovibrio_bacteriovorus__taxID959\n",
      "GACTTCACATTCGTATGCCCAACAGAACTAGTAGACATGGTATACAAATACGACAGATTCAAAGCAATGGGAGTAGAAATATACAGCGTAAGCACAGACACACACTTCGTACACAAAGCATGGCACGACACAAGCGAAAGCATAAGAAAAATAAACTACCCAATGCTAGCAGACCCAACAGGAGTACTAAGCAGAGGATTCGGAGTAATGATAGAAGAAGAAGGAGTAGCATACAGAGGAACATTCGTAGTAAACCCAGAAGGAAAAGTAAAACTAGTAGAAATACAAGACAACAGCATAGGAAGAAACGCAGACGAACTACTAAGAAAAGTAGCAGCAGCACAATTCGTAGAAGCACACCCAGGAGAAGTATGCCCAGCAAAATGGCAACAAGGAGCAGAAACACTAAAACCAAGC\n",
      ">UniRef50_D4JRE5|196|g__Ruminococcaceae.s__Flavonifractor_sp_An4__taxID1965634\n",
      "NNNATGAGCAGCTTCAGCTACAGCGTATTCGACAAAATATACCTACTAGCAGTAGAATGGGGATGCCTACTACTAGACATACAAACACTAGAAATAGTAAGAAAAGCAAACAGACTAACAAACGAACTAGGAACAAACGACCCACACAAAATAGCAAGAGAACTAGGAATAGAAGTAATACCACTAAGCTTCAAAAAACAAAGAGGAGCATACAAAGTACTAATGAGAAACAGATTCATATTCATAAAAGACGACCTACACCCAGTAATGGAAAGAATAGTAATGCTACACGAAATAGGACACGACGCACTACACAGAGAAGAAGCAGTAAAAGCAGGAGGATTCAAAGAATTCAACATATTCGACATGAGACAAAGCAGAATGGAATACGAAGCAAACATATTCGCAAGCCAAATAAGCCTACCAGACGACGAAATACTAGAATACATAGAAAACGGATACGACATACAACAAATAGCAAGAGCAATGCACAGCGACATAAACCTAGTAGCACTAAAAACAGACACACTAATAGCACAAGGATACAGATTCAGACACCAAGAATACAGAAACCAATTCCTAAAANNN\n",
      ">UniRef50_A5UJA1|169|g__Methanobacteriaceae.s__Methanobrevibacter_woesei__taxID190976\n",
      "NNNATGAACGAAGAAGTAAGAGAAGTAATAGGAGTAGAACACCTAAAAACAGTACTAAGCACACTAACACCAGAAGACATAGTAAAACACGCATACAAAGAATGGTACCCATGCCAAAGAACAGGACACACAATACTAAACCTAGAAAACGGAAAAATATACGGACTAGGAATAGAACTAAACCAACTACCACTAGTAGACACAGTATACATAGAACTATACAGCATAGACTGGGAAGAAGACCCAATAGAAGTAGAAGAACTATTCAGCCCACAAGAATACGAAGAATACCTAGAATTCAAAGACGACGAAGTATGCGAATACACACCAGACATAGTAAGCGACTTCTGCCAAAAAAAAGGAATAGACGAAAACGAAAGAAAAATAGGACTACTAGCATACAAATTCGAAAAAAACGAACAAAGCAACTACAACCAATGGGAAAGCAAAATACTAAACAAATACTACGACGTAATAATGGACGACTACAACCCATTCAAACAAATG\n",
      "\n",
      "gzip: stdout: Broken pipe\n"
     ]
    }
   ],
   "source": [
    "# Execute in notebook\n",
    "!zcat /ebio/abt3_projects/Struo/example_build/Struo/tests/data/clusters_rep-seqs.faa.gz | head\n",
    "!zcat /ebio/abt3_projects/Struo/example_build/Struo/tests/data/clusters_rep-seqs.fna.gz | head"
   ]
  },
  {
   "cell_type": "markdown",
   "metadata": {},
   "source": [
    "We need to specify the path to these files in the `config.yaml` file under the `humann2_nuc_seqs` and `humann2_nuc_seqs` options"
   ]
  },
  {
   "cell_type": "code",
   "execution_count": 23,
   "metadata": {
    "ExecuteTime": {
     "end_time": "2019-10-30T14:49:03.484719Z",
     "start_time": "2019-10-30T14:49:03.365879Z"
    }
   },
   "outputs": [
    {
     "name": "stdout",
     "output_type": "stream",
     "text": [
      "#-- I/O --#\r\n",
      "# file listing samples and associated data\r\n",
      "samples_file: /ebio/abt3_projects/Struo/example_build/Files/Samples_add.txt\r\n",
      "\r\n",
      "## column names in samples table\r\n",
      "samples_col: 'ncbi_organism_name'\r\n",
      "fasta_file_path_col: 'fasta_file_path'\r\n",
      "taxID_col: 'ncbi_species_taxid'    \r\n",
      "taxonomy_col: 'ncbi_taxonomy'   \r\n",
      "\r\n",
      "# output location\r\n",
      "output_dir: /ebio/abt3_projects/Struo/example_build/Databases\r\n",
      "\r\n",
      "#-- databases to create --#\r\n",
      "# Replace \"Create\" with \"Skip\" to skip creation of any of these\r\n",
      "# Note that braken relies on the kraken2 database\r\n",
      "databases:\r\n",
      "  kraken2: Create\r\n",
      "  bracken: Create\r\n",
      "  humann2_bowtie2: Create\r\n",
      "  humann2_diamond: Create\r\n",
      "\r\n",
      "#-- keep intermediate files required for re-creating DBs (eg., w/ more genomes) --#\r\n",
      "# If \"True\", the intermediate files are saved to `output_dir`\r\n",
      "# Else, the intermediate files are temporarily stored in `temp_folder`\r\n",
      "keep_intermediate: True\r\n",
      "\r\n",
      "#-- if custom NCBI taxdump files (or just Skip) --#\r\n",
      "names_dmp: Skip \r\n",
      "nodes_dmp: Skip \r\n",
      "\r\n",
      "#-- software parameters --#\r\n",
      "# `vsearch_per_genome` = per-genome gene clustering\r\n",
      "# `vsearch_all` = all genes clustered (including `humann2_nuc_seqs` & `humann2_prot_seqs`)\r\n",
      "params:\r\n",
      "  bracken_build_kmer: 35\r\n",
      "  bracken_build_read_lens:\r\n",
      "    - 100\r\n",
      "    - 150\r\n",
      "  prodigal: \"\"\r\n",
      "  diamond_db: /ebio/abt3_projects/Struo/example_build/Files/uniref/uniref50_annotated.1.1.dmnd\r\n",
      "  diamond_db_to_mem: True\r\n",
      "  diamond: --evalue 1e-3 --sensitive --max-target-seqs 20 --block-size 3 --index-chunks 2\r\n",
      "  vsearch_per_genome: --id 0.97 --strand both --qmask none --fasta_width 0\r\n",
      "  vsearch_all: --id 1.0 --strand both --qmask none --fasta_width 0\r\n",
      "\r\n",
      "#-- If adding genes to humann2 database --#\r\n",
      "# If you have nucleotid and/or protein gene sequences formatted for humann2,\r\n",
      "# provide the file paths to the fasta files below (gzip'ed)\r\n",
      "humann2_nuc_seqs: /ebio/abt3_projects/Struo/example_build/Struo/tests/data/clusters_rep-seqs.fna.gz\r\n",
      "humann2_prot_seqs: /ebio/abt3_projects/Struo/example_build/Struo/tests/data/clusters_rep-seqs.faa.gz\r\n",
      "\r\n",
      "#-- snakemake pipeline --#\r\n",
      "pipeline:\r\n",
      "  snakemake_folder: ./\r\n",
      "  script_folder: ./bin/scripts/\r\n",
      "  temp_folder: /tmp/global2/     # your username will be added automatically to this path\r\n"
     ]
    }
   ],
   "source": [
    "# Execute from notebook\n",
    "!cat /ebio/abt3_projects/Struo/example_build/Struo/config.yaml"
   ]
  },
  {
   "cell_type": "markdown",
   "metadata": {
    "ExecuteTime": {
     "end_time": "2019-10-30T14:51:30.133800Z",
     "start_time": "2019-10-30T14:51:30.127459Z"
    }
   },
   "source": [
    "Finally, we execute the pipeline just like we did the first time:\n",
    "\n",
    "```bash\n",
    "# Execute from terminal\n",
    "conda activate struo\n",
    "\n",
    "screen -L -S struo_test bash -c \"snakemake --use-conda --cores 10\"\n",
    "```"
   ]
  },
  {
   "cell_type": "markdown",
   "metadata": {},
   "source": [
    "# Session Info\n",
    "\n",
    "The conda environment used to execute the pipeline in this tutorial contains the following packages"
   ]
  },
  {
   "cell_type": "code",
   "execution_count": 38,
   "metadata": {
    "ExecuteTime": {
     "end_time": "2019-10-11T06:58:36.037263Z",
     "start_time": "2019-10-11T06:58:34.433614Z"
    },
    "scrolled": false
   },
   "outputs": [
    {
     "name": "stdout",
     "output_type": "stream",
     "text": [
      "# packages in environment at /ebio/abt3_projects/software/miniconda3_gt4.4/envs/struo:\r\n",
      "#\r\n",
      "# Name                    Version                   Build  Channel\r\n",
      "_libgcc_mutex             0.1                        main  \r\n",
      "_r-mutex                  1.0.1               anacondar_1    conda-forge\r\n",
      "aioeasywebdav             2.4.0                 py36_1000    conda-forge\r\n",
      "aiohttp                   3.6.1            py36h516909a_0    conda-forge\r\n",
      "appdirs                   1.4.3                      py_1    conda-forge\r\n",
      "asn1crypto                1.0.1                    py36_0    conda-forge\r\n",
      "async-timeout             3.0.1                   py_1000    conda-forge\r\n",
      "attrs                     19.2.0                     py_0    conda-forge\r\n",
      "bcrypt                    3.1.7            py36h7b6447c_0  \r\n",
      "binutils_impl_linux-64    2.31.1               h6176602_1  \r\n",
      "binutils_linux-64         2.31.1               h6176602_9    conda-forge\r\n",
      "boto3                     1.9.245                    py_0    conda-forge\r\n",
      "botocore                  1.12.245                   py_0    conda-forge\r\n",
      "bwidget                   1.9.11                        1    conda-forge\r\n",
      "bzip2                     1.0.8                h516909a_1    conda-forge\r\n",
      "ca-certificates           2019.9.11            hecc5488_0    conda-forge\r\n",
      "cachetools                2.1.0                      py_0    conda-forge\r\n",
      "cairo                     1.16.0            hfb77d84_1002    conda-forge\r\n",
      "certifi                   2019.9.11                py36_0    conda-forge\r\n",
      "cffi                      1.12.3           py36h8022711_0    conda-forge\r\n",
      "chardet                   3.0.4                 py36_1003    conda-forge\r\n",
      "configargparse            0.14.0                   py36_0  \r\n",
      "cryptography              2.7              py36h72c5cf5_0    conda-forge\r\n",
      "curl                      7.65.3               hf8cf82a_0    conda-forge\r\n",
      "datrie                    0.8              py36h516909a_0    conda-forge\r\n",
      "decorator                 4.4.0                      py_0    conda-forge\r\n",
      "docutils                  0.15.2                   py36_0    conda-forge\r\n",
      "dropbox                   7.3.1                    py36_0    conda-forge\r\n",
      "expat                     2.2.6                he6710b0_0  \r\n",
      "fftw                      3.3.8           nompi_h7f3a6c3_1109    conda-forge\r\n",
      "filechunkio               1.8                        py_2    conda-forge\r\n",
      "fontconfig                2.13.1            h86ecdb6_1001    conda-forge\r\n",
      "freetype                  2.10.0               he983fc9_1    conda-forge\r\n",
      "fribidi                   1.0.5             h516909a_1002    conda-forge\r\n",
      "ftputil                   3.4                        py_0    conda-forge\r\n",
      "gcc_impl_linux-64         7.3.0                habb00fd_1    conda-forge\r\n",
      "gcc_linux-64              7.3.0                h553295d_9    conda-forge\r\n",
      "gdk-pixbuf                2.36.12           h7a26e22_1003    conda-forge\r\n",
      "gettext                   0.19.8.1          hc5be6a0_1002    conda-forge\r\n",
      "gfortran_impl_linux-64    7.3.0                hdf63c60_1  \r\n",
      "gfortran_linux-64         7.3.0                h553295d_9    conda-forge\r\n",
      "ghostscript               9.22              hf484d3e_1001    conda-forge\r\n",
      "giflib                    5.1.7                h516909a_1    conda-forge\r\n",
      "gitdb2                    2.0.6                      py_0    conda-forge\r\n",
      "gitpython                 3.0.3                      py_0    conda-forge\r\n",
      "glib                      2.58.3            h6f030ca_1002    conda-forge\r\n",
      "gobject-introspection     1.58.2          py36h5503ade_1002    conda-forge\r\n",
      "google-auth               1.6.3                      py_0    conda-forge\r\n",
      "google-auth-httplib2      0.0.3                      py_2    conda-forge\r\n",
      "google-cloud-core         0.24.1                   py36_0    conda-forge\r\n",
      "google-cloud-storage      1.1.1                    py36_0    conda-forge\r\n",
      "google-resumable-media    0.0.2                    py36_0    conda-forge\r\n",
      "googleapis-common-protos  1.6.0                    py36_0    conda-forge\r\n",
      "graphite2                 1.3.13            hf484d3e_1000    conda-forge\r\n",
      "graphviz                  2.40.1               h0f2764d_1    conda-forge\r\n",
      "gsl                       2.5                  h294904e_1    conda-forge\r\n",
      "gxx_impl_linux-64         7.3.0                hdf63c60_1    conda-forge\r\n",
      "gxx_linux-64              7.3.0                h553295d_9    conda-forge\r\n",
      "harfbuzz                  2.4.0                h9f30f68_3    conda-forge\r\n",
      "httplib2                  0.14.0                   py36_0    conda-forge\r\n",
      "icu                       64.2                 he1b5a44_1    conda-forge\r\n",
      "idna                      2.8                   py36_1000    conda-forge\r\n",
      "idna_ssl                  1.1.0                 py36_1000    conda-forge\r\n",
      "imagemagick               7.0.8_68        pl526h51306e4_0    conda-forge\r\n",
      "jbig                      2.1               h14c3975_2001    conda-forge\r\n",
      "jinja2                    2.10.3                     py_0    conda-forge\r\n",
      "jmespath                  0.9.4                      py_0    conda-forge\r\n",
      "jpeg                      9c                h14c3975_1001    conda-forge\r\n",
      "jsonschema                3.0.2                    py36_0    conda-forge\r\n",
      "krb5                      1.16.3            h05b26f9_1001    conda-forge\r\n",
      "libblas                   3.8.0               13_openblas    conda-forge\r\n",
      "libcblas                  3.8.0               13_openblas    conda-forge\r\n",
      "libcroco                  0.6.13               h8d621e5_0    conda-forge\r\n",
      "libcurl                   7.65.3               hda55be3_0    conda-forge\r\n",
      "libedit                   3.1.20181209         hc058e9b_0  \r\n",
      "libffi                    3.2.1             he1b5a44_1006    conda-forge\r\n",
      "libgcc-ng                 9.1.0                hdf63c60_0  \r\n",
      "libgfortran-ng            7.3.0                hdf63c60_0  \r\n",
      "libiconv                  1.15              h516909a_1005    conda-forge\r\n",
      "liblapack                 3.8.0               13_openblas    conda-forge\r\n",
      "libopenblas               0.3.7                h6e990d7_1    conda-forge\r\n",
      "libpng                    1.6.37               hed695b0_0    conda-forge\r\n",
      "libprotobuf               3.10.0               h8b12597_0    conda-forge\r\n",
      "librsvg                   2.46.1               h68f2853_0    conda-forge\r\n",
      "libssh2                   1.8.2                h22169c7_2    conda-forge\r\n",
      "libstdcxx-ng              9.1.0                hdf63c60_0  \r\n",
      "libtiff                   4.0.10            h57b8799_1003    conda-forge\r\n",
      "libtool                   2.4.6             h14c3975_1002    conda-forge\r\n",
      "libuuid                   2.32.1            h14c3975_1000    conda-forge\r\n",
      "libwebp                   1.0.2                h99fbfcb_2    conda-forge\r\n",
      "libxcb                    1.13              h14c3975_1002    conda-forge\r\n",
      "libxml2                   2.9.9                hee79883_5    conda-forge\r\n",
      "lz4-c                     1.8.3             he1b5a44_1001    conda-forge\r\n",
      "make                      4.2.1             h14c3975_2004    conda-forge\r\n",
      "markupsafe                1.1.1            py36h14c3975_0    conda-forge\r\n",
      "multidict                 4.5.2           py36h14c3975_1000    conda-forge\r\n",
      "ncbi-genome-download      0.2.10                   py36_0    bioconda\r\n",
      "ncurses                   6.1               hf484d3e_1002    conda-forge\r\n",
      "networkx                  2.3                        py_0    conda-forge\r\n",
      "numpy                     1.17.2           py36h95a1406_0    conda-forge\r\n",
      "openjpeg                  2.3.1                h21c5421_1    conda-forge\r\n",
      "openssl                   1.1.1d               h7b6447c_2  \r\n",
      "pandas                    0.25.1           py36hb3f55d8_0    conda-forge\r\n",
      "pango                     1.42.4               ha030887_1    conda-forge\r\n",
      "paramiko                  2.6.0                    py36_0    conda-forge\r\n",
      "pcre                      8.43                 he6710b0_0  \r\n",
      "perl                      5.26.2            h516909a_1006    conda-forge\r\n",
      "pip                       19.2.3                   py36_0    conda-forge\r\n",
      "pixman                    0.38.0            h516909a_1003    conda-forge\r\n",
      "pkg-config                0.29.2            h14c3975_1005    conda-forge\r\n",
      "prettytable               0.7.2                      py_3    conda-forge\r\n",
      "protobuf                  3.10.0           py36he1b5a44_0    conda-forge\r\n",
      "psutil                    5.6.3            py36h516909a_0    conda-forge\r\n",
      "pthread-stubs             0.4               h14c3975_1001    conda-forge\r\n",
      "pyasn1                    0.4.7                      py_0  \r\n",
      "pyasn1-modules            0.2.6                      py_0    conda-forge\r\n",
      "pycparser                 2.19                     py36_1    conda-forge\r\n",
      "pygments                  2.4.2                      py_0    conda-forge\r\n",
      "pygraphviz                1.3.1                    py36_0    bioconda\r\n",
      "pynacl                    1.3.0           py36h14c3975_1000    conda-forge\r\n",
      "pyopenssl                 19.0.0                   py36_0    conda-forge\r\n",
      "pyrsistent                0.15.4           py36h516909a_0    conda-forge\r\n",
      "pysftp                    0.2.9                    py36_0    bioconda\r\n",
      "pysocks                   1.7.1                    py36_0    conda-forge\r\n",
      "python                    3.6.7             h357f687_1005    conda-forge\r\n",
      "python-dateutil           2.8.0                      py_0    conda-forge\r\n",
      "python-irodsclient        0.7.0                      py_0    conda-forge\r\n",
      "pytz                      2019.3                     py_0    conda-forge\r\n",
      "pyyaml                    5.1.2            py36h516909a_0    conda-forge\r\n",
      "r-argparse                2.0.1             r36h6115d3f_1    conda-forge\r\n",
      "r-assertthat              0.2.1             r36h6115d3f_0    r\r\n",
      "r-backports               1.1.5             r36hcdcec82_0    conda-forge\r\n",
      "r-base                    3.6.1                hba50c9b_4    conda-forge\r\n",
      "r-cli                     1.1.0             r36h6115d3f_0    r\r\n",
      "r-crayon                  1.3.4             r36h6115d3f_0    r\r\n",
      "r-curl                    4.2               r36hcdcec82_0    conda-forge\r\n",
      "r-data.table              1.12.4            r36hcdcec82_0    conda-forge\r\n",
      "r-digest                  0.6.21            r36h0357c0b_0    conda-forge\r\n",
      "r-dplyr                   0.8.3             r36h0357c0b_3    conda-forge\r\n",
      "r-ellipsis                0.3.0             r36hcdcec82_0    conda-forge\r\n",
      "r-fansi                   0.4.0             r36h96ca727_0    r\r\n",
      "r-findpython              1.0.5             r36h6115d3f_1    conda-forge\r\n",
      "r-getopt                  1.20.3                    r36_1    conda-forge\r\n",
      "r-glue                    1.3.1             r36h96ca727_0    r\r\n",
      "r-jsonlite                1.6             r36hcdcec82_1001    conda-forge\r\n",
      "r-magrittr                1.5               r36h6115d3f_4    r\r\n",
      "r-pillar                  1.4.2             r36h6115d3f_2    conda-forge\r\n",
      "r-pkgconfig               2.0.3             r36h6115d3f_0    conda-forge\r\n",
      "r-plogr                   0.2.0             r36h6115d3f_0    r\r\n",
      "r-purrr                   0.3.2             r36h96ca727_0    r\r\n",
      "r-r6                      2.4.0             r36h6115d3f_2    conda-forge\r\n",
      "r-rcpp                    1.0.2             r36h0357c0b_0    conda-forge\r\n",
      "r-rlang                   0.4.0             r36hcdcec82_1    conda-forge\r\n",
      "r-tibble                  2.1.3             r36hcdcec82_1    conda-forge\r\n",
      "r-tidyselect              0.2.5             r36h29659fb_0    r\r\n",
      "r-utf8                    1.1.4             r36h96ca727_0    r\r\n",
      "r-vctrs                   0.2.0             r36hcdcec82_1    conda-forge\r\n",
      "r-zeallot                 0.1.0             r36h6115d3f_0    r\r\n",
      "ratelimiter               1.2.0                 py36_1000    conda-forge\r\n",
      "readline                  8.0                  hf8c457e_0    conda-forge\r\n",
      "requests                  2.12.5                   py36_0    conda-forge\r\n",
      "rsa                       3.4.2                      py_1    conda-forge\r\n",
      "s3transfer                0.2.1                    py36_0    conda-forge\r\n",
      "sed                       4.7               h1bed415_1000    conda-forge\r\n",
      "setuptools                41.4.0                   py36_0    conda-forge\r\n",
      "six                       1.12.0                py36_1000    conda-forge\r\n",
      "smmap2                    2.0.5                      py_0    conda-forge\r\n",
      "snakemake                 5.7.0                         0    bioconda\r\n",
      "snakemake-minimal         5.7.0                      py_0    bioconda\r\n",
      "sqlite                    3.30.0               hcee41ef_0    conda-forge\r\n",
      "tk                        8.6.9             hed695b0_1003    conda-forge\r\n",
      "tktable                   2.10                 h555a92e_3    conda-forge\r\n",
      "typing_extensions         3.7.4                    py36_0    conda-forge\r\n",
      "urllib3                   1.25.6                   py36_0    conda-forge\r\n",
      "wheel                     0.33.6                   py36_0    conda-forge\r\n",
      "wrapt                     1.11.2           py36h516909a_0    conda-forge\r\n",
      "xmlrunner                 1.7.7                      py_0    conda-forge\r\n",
      "xorg-kbproto              1.0.7             h14c3975_1002    conda-forge\r\n",
      "xorg-libice               1.0.10               h516909a_0    conda-forge\r\n",
      "xorg-libsm                1.2.3             h84519dc_1000    conda-forge\r\n",
      "xorg-libx11               1.6.8                h516909a_0    conda-forge\r\n",
      "xorg-libxau               1.0.9                h14c3975_0    conda-forge\r\n",
      "xorg-libxdmcp             1.1.3                h516909a_0    conda-forge\r\n",
      "xorg-libxext              1.3.4                h516909a_0    conda-forge\r\n",
      "xorg-libxpm               3.5.12            h516909a_1002    conda-forge\r\n",
      "xorg-libxrender           0.9.10            h516909a_1002    conda-forge\r\n",
      "xorg-libxt                1.1.5             h516909a_1003    conda-forge\r\n",
      "xorg-renderproto          0.11.1            h14c3975_1002    conda-forge\r\n",
      "xorg-xextproto            7.3.0             h14c3975_1002    conda-forge\r\n",
      "xorg-xproto               7.0.31            h14c3975_1007    conda-forge\r\n",
      "xz                        5.2.4             h14c3975_1001    conda-forge\r\n",
      "yaml                      0.1.7             h14c3975_1001    conda-forge\r\n",
      "yarl                      1.3.0           py36h14c3975_1000    conda-forge\r\n",
      "zlib                      1.2.11            h516909a_1006    conda-forge\r\n",
      "zstd                      1.4.0                h3b9ef0a_0    conda-forge\r\n"
     ]
    }
   ],
   "source": [
    "# Execute from notebook\n",
    "!conda list -n struo"
   ]
  }
 ],
 "metadata": {
  "kernelspec": {
   "display_name": "Python [conda env:py3]",
   "language": "python",
   "name": "conda-env-py3-py"
  },
  "language_info": {
   "codemirror_mode": {
    "name": "ipython",
    "version": 3
   },
   "file_extension": ".py",
   "mimetype": "text/x-python",
   "name": "python",
   "nbconvert_exporter": "python",
   "pygments_lexer": "ipython3",
   "version": "3.6.6"
  },
  "toc": {
   "base_numbering": 1,
   "nav_menu": {},
   "number_sections": true,
   "sideBar": true,
   "skip_h1_title": false,
   "title_cell": "Table of Contents",
   "title_sidebar": "Contents",
   "toc_cell": false,
   "toc_position": {},
   "toc_section_display": true,
   "toc_window_display": false
  }
 },
 "nbformat": 4,
 "nbformat_minor": 2
}
